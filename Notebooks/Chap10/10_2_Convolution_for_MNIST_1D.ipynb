{
  "nbformat": 4,
  "nbformat_minor": 0,
  "metadata": {
    "colab": {
      "provenance": [],
      "gpuType": "T4",
      "include_colab_link": true
    },
    "kernelspec": {
      "name": "python3",
      "display_name": "Python 3"
    },
    "language_info": {
      "name": "python"
    }
  },
  "cells": [
    {
      "cell_type": "markdown",
      "metadata": {
        "id": "view-in-github",
        "colab_type": "text"
      },
      "source": [
        "<a href=\"https://colab.research.google.com/github/ErPaan/Trained-with-notebooks-from-udlbook-github.com-udlbook-/blob/main/Notebooks/Chap10/10_2_Convolution_for_MNIST_1D.ipynb\" target=\"_parent\"><img src=\"https://colab.research.google.com/assets/colab-badge.svg\" alt=\"Open In Colab\"/></a>"
      ]
    },
    {
      "cell_type": "markdown",
      "source": [
        "# **Notebook 10.2: Convolution for MNIST-1D**\n",
        "\n",
        "This notebook investigates a 1D convolutional network for MNIST-1D as in figure 10.7 and 10.8a.\n",
        "\n",
        "Work through the cells below, running each cell in turn. In various places you will see the words \"TODO\". Follow the instructions at these places and make predictions about what is going to happen or write code to complete the functions.\n",
        "\n",
        "Contact me at udlbookmail@gmail.com if you find any mistakes or have any suggestions.\n",
        "\n"
      ],
      "metadata": {
        "id": "t9vk9Elugvmi"
      }
    },
    {
      "cell_type": "code",
      "source": [
        "# Run this if you're in a Colab to install MNIST 1D repository\n",
        "!pip install git+https://github.com/greydanus/mnist1d"
      ],
      "metadata": {
        "id": "D5yLObtZCi9J",
        "collapsed": true,
        "outputId": "01ca6d2f-b798-4772-ac03-4b84218103ac",
        "colab": {
          "base_uri": "https://localhost:8080/"
        }
      },
      "execution_count": null,
      "outputs": [
        {
          "output_type": "stream",
          "name": "stdout",
          "text": [
            "Collecting git+https://github.com/greydanus/mnist1d\n",
            "  Cloning https://github.com/greydanus/mnist1d to /tmp/pip-req-build-cun_56h7\n",
            "  Running command git clone --filter=blob:none --quiet https://github.com/greydanus/mnist1d /tmp/pip-req-build-cun_56h7\n",
            "  Resolved https://github.com/greydanus/mnist1d to commit 7878d96082abd200c546a07a4101fa90b30fdf7e\n",
            "  Installing build dependencies ... \u001b[?25l\u001b[?25hdone\n",
            "  Getting requirements to build wheel ... \u001b[?25l\u001b[?25hdone\n",
            "  Preparing metadata (pyproject.toml) ... \u001b[?25l\u001b[?25hdone\n",
            "Requirement already satisfied: requests in /usr/local/lib/python3.12/dist-packages (from mnist1d==0.0.2.post16) (2.32.4)\n",
            "Requirement already satisfied: numpy in /usr/local/lib/python3.12/dist-packages (from mnist1d==0.0.2.post16) (2.0.2)\n",
            "Requirement already satisfied: matplotlib in /usr/local/lib/python3.12/dist-packages (from mnist1d==0.0.2.post16) (3.10.0)\n",
            "Requirement already satisfied: scipy in /usr/local/lib/python3.12/dist-packages (from mnist1d==0.0.2.post16) (1.16.1)\n",
            "Requirement already satisfied: contourpy>=1.0.1 in /usr/local/lib/python3.12/dist-packages (from matplotlib->mnist1d==0.0.2.post16) (1.3.3)\n",
            "Requirement already satisfied: cycler>=0.10 in /usr/local/lib/python3.12/dist-packages (from matplotlib->mnist1d==0.0.2.post16) (0.12.1)\n",
            "Requirement already satisfied: fonttools>=4.22.0 in /usr/local/lib/python3.12/dist-packages (from matplotlib->mnist1d==0.0.2.post16) (4.59.2)\n",
            "Requirement already satisfied: kiwisolver>=1.3.1 in /usr/local/lib/python3.12/dist-packages (from matplotlib->mnist1d==0.0.2.post16) (1.4.9)\n",
            "Requirement already satisfied: packaging>=20.0 in /usr/local/lib/python3.12/dist-packages (from matplotlib->mnist1d==0.0.2.post16) (25.0)\n",
            "Requirement already satisfied: pillow>=8 in /usr/local/lib/python3.12/dist-packages (from matplotlib->mnist1d==0.0.2.post16) (11.3.0)\n",
            "Requirement already satisfied: pyparsing>=2.3.1 in /usr/local/lib/python3.12/dist-packages (from matplotlib->mnist1d==0.0.2.post16) (3.2.3)\n",
            "Requirement already satisfied: python-dateutil>=2.7 in /usr/local/lib/python3.12/dist-packages (from matplotlib->mnist1d==0.0.2.post16) (2.9.0.post0)\n",
            "Requirement already satisfied: charset_normalizer<4,>=2 in /usr/local/lib/python3.12/dist-packages (from requests->mnist1d==0.0.2.post16) (3.4.3)\n",
            "Requirement already satisfied: idna<4,>=2.5 in /usr/local/lib/python3.12/dist-packages (from requests->mnist1d==0.0.2.post16) (3.10)\n",
            "Requirement already satisfied: urllib3<3,>=1.21.1 in /usr/local/lib/python3.12/dist-packages (from requests->mnist1d==0.0.2.post16) (2.5.0)\n",
            "Requirement already satisfied: certifi>=2017.4.17 in /usr/local/lib/python3.12/dist-packages (from requests->mnist1d==0.0.2.post16) (2025.8.3)\n",
            "Requirement already satisfied: six>=1.5 in /usr/local/lib/python3.12/dist-packages (from python-dateutil>=2.7->matplotlib->mnist1d==0.0.2.post16) (1.17.0)\n",
            "Building wheels for collected packages: mnist1d\n",
            "  Building wheel for mnist1d (pyproject.toml) ... \u001b[?25l\u001b[?25hdone\n",
            "  Created wheel for mnist1d: filename=mnist1d-0.0.2.post16-py3-none-any.whl size=14665 sha256=727afda9eaabd87590052127ce163eb54d5d8c3e7534257ebfd4cdeb048fb85c\n",
            "  Stored in directory: /tmp/pip-ephem-wheel-cache-azpcmnjw/wheels/18/40/b6/29381fee9b4c80fdbc304d52bb065a7286bbcca5ca2b8737c0\n",
            "Successfully built mnist1d\n",
            "Installing collected packages: mnist1d\n",
            "Successfully installed mnist1d-0.0.2.post16\n"
          ]
        }
      ]
    },
    {
      "cell_type": "code",
      "source": [
        "import numpy as np\n",
        "import os\n",
        "import torch, torch.nn as nn\n",
        "from torch.utils.data import TensorDataset, DataLoader\n",
        "from torch.optim.lr_scheduler import StepLR\n",
        "import matplotlib.pyplot as plt\n",
        "import mnist1d\n",
        "import random"
      ],
      "metadata": {
        "id": "YrXWAH7sUWvU"
      },
      "execution_count": null,
      "outputs": []
    },
    {
      "cell_type": "code",
      "source": [
        "args = mnist1d.data.get_dataset_args()\n",
        "data = mnist1d.data.get_dataset(args, path='./mnist1d_data.pkl', download=False, regenerate=False)\n",
        "\n",
        "# The training and test input and outputs are in\n",
        "# data['x'], data['y'], data['x_test'], and data['y_test']\n",
        "print(\"Examples in training set: {}\".format(len(data['y'])))\n",
        "print(\"Examples in test set: {}\".format(len(data['y_test'])))\n",
        "print(\"Length of each example: {}\".format(data['x'].shape[-1]))"
      ],
      "metadata": {
        "id": "twI72ZCrCt5z",
        "outputId": "d26e08f4-3bd4-4169-f15f-28c3e4177d51",
        "colab": {
          "base_uri": "https://localhost:8080/"
        }
      },
      "execution_count": null,
      "outputs": [
        {
          "output_type": "stream",
          "name": "stdout",
          "text": [
            "Did or could not load data from ./mnist1d_data.pkl. Rebuilding dataset...\n",
            "Examples in training set: 4000\n",
            "Examples in test set: 1000\n",
            "Length of each example: 40\n"
          ]
        }
      ]
    },
    {
      "cell_type": "code",
      "source": [
        "# Load in the data\n",
        "train_data_x = data['x'].transpose()\n",
        "train_data_y = data['y']\n",
        "val_data_x = data['x_test'].transpose()\n",
        "val_data_y = data['y_test']\n",
        "# Print out sizes\n",
        "print(\"Train data: %d examples (columns), each of which has %d dimensions (rows)\"%((train_data_x.shape[1],train_data_x.shape[0])))\n",
        "print(\"Validation data: %d examples (columns), each of which has %d dimensions (rows)\"%((val_data_x.shape[1],val_data_x.shape[0])))"
      ],
      "metadata": {
        "id": "8bKADvLHbiV5",
        "outputId": "ab94b3f1-5585-432a-febe-f62b8b9644ac",
        "colab": {
          "base_uri": "https://localhost:8080/"
        }
      },
      "execution_count": null,
      "outputs": [
        {
          "output_type": "stream",
          "name": "stdout",
          "text": [
            "Train data: 4000 examples (columns), each of which has 40 dimensions (rows)\n",
            "Validation data: 1000 examples (columns), each of which has 40 dimensions (rows)\n"
          ]
        }
      ]
    },
    {
      "cell_type": "markdown",
      "source": [
        "Define the network"
      ],
      "metadata": {
        "id": "_sFvRDGrl4qe"
      }
    },
    {
      "cell_type": "code",
      "source": [
        "# There are 40 input dimensions and 10 output dimensions for this data\n",
        "# The inputs correspond to the 40 offsets in the MNIST1D template.\n",
        "D_i = 40\n",
        "# The outputs correspond to the 10 digits\n",
        "D_o = 10\n",
        "\n",
        "\n",
        "# TODO Create a model with the following layers\n",
        "# 1. Convolutional layer, (input=length 40 and 1 channel, kernel size 3, stride 2, padding=\"valid\", 15 output channels )\n",
        "# 2. ReLU\n",
        "# 3. Convolutional layer, (input=length 19 and 15 channels, kernel size 3, stride 2, padding=\"valid\", 15 output channels )\n",
        "# 4. ReLU\n",
        "# 5. Convolutional layer, (input=length 9 and 15 channels, kernel size 3, stride 2, padding=\"valid\", 15 output channels)\n",
        "# 6. ReLU\n",
        "# 7. Flatten (converts 4x15) to length 60\n",
        "# 8. Linear layer (input size = 60, output size = 10)\n",
        "# References:\n",
        "# https://pytorch.org/docs/1.13/generated/torch.nn.Conv1d.html?highlight=conv1d#torch.nn.Conv1d\n",
        "# https://pytorch.org/docs/stable/generated/torch.nn.Flatten.html\n",
        "# https://pytorch.org/docs/1.13/generated/torch.nn.Linear.html?highlight=linear#torch.nn.Linear\n",
        "\n",
        "# NOTE THAT THE CONVOLUTIONAL LAYERS NEED TO TAKE THE NUMBER OF INPUT CHANNELS AS A PARAMETER\n",
        "# AND NOT THE INPUT SIZE.\n",
        "\n",
        "# Replace the following function:\n",
        "model = nn.Sequential(\n",
        "nn.Conv1d(1, 15, 3, 2, 'valid'),\n",
        "nn.ReLU(),\n",
        "nn.Conv1d(15, 15, 3, 2, 'valid'),\n",
        "nn.ReLU(),\n",
        "nn.Conv1d(15, 15, 3, 2, 'valid'),\n",
        "nn.ReLU(),\n",
        "nn.Flatten(),\n",
        "nn.Linear(60, 10)\n",
        ")\n",
        "\n",
        "\n",
        "\n"
      ],
      "metadata": {
        "id": "FslroPJJffrh"
      },
      "execution_count": null,
      "outputs": []
    },
    {
      "cell_type": "code",
      "source": [
        "# He initialization of weights\n",
        "def weights_init(layer_in):\n",
        "  if isinstance(layer_in, nn.Linear):\n",
        "    nn.init.kaiming_uniform_(layer_in.weight)\n",
        "    layer_in.bias.data.fill_(0.0)"
      ],
      "metadata": {
        "id": "YgLaex1pfhqz"
      },
      "execution_count": null,
      "outputs": []
    },
    {
      "cell_type": "code",
      "source": [
        "# choose cross entropy loss function (equation 5.24 in the loss notes)\n",
        "loss_function = nn.CrossEntropyLoss()\n",
        "# construct SGD optimizer and initialize learning rate and momentum\n",
        "optimizer = torch.optim.SGD(model.parameters(), lr = 0.05, momentum=0.9)\n",
        "# object that decreases learning rate by half every 20 epochs\n",
        "scheduler = StepLR(optimizer, step_size=20, gamma=0.5)\n",
        "# create 100 dummy data points and store in data loader class\n",
        "x_train = torch.tensor(train_data_x.transpose().astype('float32'))\n",
        "y_train = torch.tensor(train_data_y.astype('long')).long()\n",
        "x_val= torch.tensor(val_data_x.transpose().astype('float32'))\n",
        "y_val = torch.tensor(val_data_y.astype('long')).long()\n",
        "\n",
        "# load the data into a class that creates the batches\n",
        "data_loader = DataLoader(TensorDataset(x_train,y_train), batch_size=100, shuffle=True, worker_init_fn=np.random.seed(1))\n",
        "\n",
        "# Initialize model weights\n",
        "model.apply(weights_init)\n",
        "\n",
        "# loop over the dataset n_epoch times\n",
        "n_epoch = 100\n",
        "# store the loss and the % correct at each epoch\n",
        "losses_train = np.zeros((n_epoch))\n",
        "errors_train = np.zeros((n_epoch))\n",
        "losses_val = np.zeros((n_epoch))\n",
        "errors_val = np.zeros((n_epoch))\n",
        "\n",
        "for epoch in range(n_epoch):\n",
        "  # loop over batches\n",
        "  for i, data in enumerate(data_loader):\n",
        "    # retrieve inputs and labels for this batch\n",
        "    x_batch, y_batch = data\n",
        "    # zero the parameter gradients\n",
        "    optimizer.zero_grad()\n",
        "    # forward pass -- calculate model output\n",
        "    pred = model(x_batch[:,None,:])\n",
        "    # compute the loss\n",
        "    loss = loss_function(pred, y_batch)\n",
        "    # backward pass\n",
        "    loss.backward()\n",
        "    # SGD update\n",
        "    optimizer.step()\n",
        "\n",
        "  # Run whole dataset to get statistics -- normally wouldn't do this\n",
        "  pred_train = model(x_train[:,None,:])\n",
        "  pred_val = model(x_val[:,None,:])\n",
        "  _, predicted_train_class = torch.max(pred_train.data, 1)\n",
        "  _, predicted_val_class = torch.max(pred_val.data, 1)\n",
        "  errors_train[epoch] = 100 - 100 * (predicted_train_class == y_train).float().sum() / len(y_train)\n",
        "  errors_val[epoch]= 100 - 100 * (predicted_val_class == y_val).float().sum() / len(y_val)\n",
        "  losses_train[epoch] = loss_function(pred_train, y_train).item()\n",
        "  losses_val[epoch]= loss_function(pred_val, y_val).item()\n",
        "  print(f'Epoch {epoch:5d}, train loss {losses_train[epoch]:.6f}, train error {errors_train[epoch]:3.2f},  val loss {losses_val[epoch]:.6f}, percent error {errors_val[epoch]:3.2f}')\n",
        "\n",
        "  # tell scheduler to consider updating learning rate\n",
        "  scheduler.step()\n",
        "\n",
        "# Plot the results\n",
        "fig, ax = plt.subplots()\n",
        "ax.plot(errors_train,'r-',label='train')\n",
        "ax.plot(errors_val,'b-',label='validation')\n",
        "ax.set_ylim(0,100); ax.set_xlim(0,n_epoch)\n",
        "ax.set_xlabel('Epoch'); ax.set_ylabel('Error')\n",
        "ax.set_title('Part I: Validation Result %3.2f'%(errors_val[-1]))\n",
        "ax.legend()\n",
        "plt.show()"
      ],
      "metadata": {
        "id": "NYw8I_3mmX5c",
        "outputId": "18c78685-de76-4199-e815-cedb4cff2ca5",
        "colab": {
          "base_uri": "https://localhost:8080/",
          "height": 1000
        }
      },
      "execution_count": null,
      "outputs": [
        {
          "output_type": "stream",
          "name": "stdout",
          "text": [
            "Epoch     0, train loss 1.997905, train error 78.82,  val loss 2.012552, percent error 79.90\n",
            "Epoch     1, train loss 1.563601, train error 61.08,  val loss 1.596059, percent error 63.60\n",
            "Epoch     2, train loss 1.356053, train error 55.90,  val loss 1.382159, percent error 58.80\n",
            "Epoch     3, train loss 1.266487, train error 52.90,  val loss 1.300834, percent error 56.30\n",
            "Epoch     4, train loss 1.203172, train error 47.80,  val loss 1.238910, percent error 51.60\n",
            "Epoch     5, train loss 1.139003, train error 45.88,  val loss 1.194658, percent error 49.50\n",
            "Epoch     6, train loss 0.999501, train error 40.03,  val loss 1.069663, percent error 44.40\n",
            "Epoch     7, train loss 1.033132, train error 39.62,  val loss 1.109243, percent error 43.50\n",
            "Epoch     8, train loss 0.857889, train error 34.28,  val loss 0.941739, percent error 37.30\n",
            "Epoch     9, train loss 0.776118, train error 30.97,  val loss 0.888647, percent error 34.30\n",
            "Epoch    10, train loss 0.734815, train error 29.57,  val loss 0.820579, percent error 32.00\n",
            "Epoch    11, train loss 0.692647, train error 29.03,  val loss 0.766900, percent error 30.10\n",
            "Epoch    12, train loss 0.532964, train error 19.88,  val loss 0.625428, percent error 24.10\n",
            "Epoch    13, train loss 0.437440, train error 15.95,  val loss 0.544404, percent error 20.70\n",
            "Epoch    14, train loss 0.505204, train error 20.07,  val loss 0.649877, percent error 21.50\n",
            "Epoch    15, train loss 0.327425, train error 11.47,  val loss 0.439465, percent error 14.90\n",
            "Epoch    16, train loss 0.341224, train error 11.40,  val loss 0.449763, percent error 14.90\n",
            "Epoch    17, train loss 0.268303, train error 9.75,  val loss 0.414853, percent error 14.00\n",
            "Epoch    18, train loss 0.229491, train error 7.25,  val loss 0.368814, percent error 12.20\n",
            "Epoch    19, train loss 0.286302, train error 9.80,  val loss 0.471013, percent error 14.20\n",
            "Epoch    20, train loss 0.155552, train error 4.93,  val loss 0.345588, percent error 11.20\n",
            "Epoch    21, train loss 0.141763, train error 4.38,  val loss 0.331785, percent error 10.10\n",
            "Epoch    22, train loss 0.145534, train error 4.68,  val loss 0.326498, percent error 10.10\n",
            "Epoch    23, train loss 0.137432, train error 4.43,  val loss 0.352179, percent error 10.70\n",
            "Epoch    24, train loss 0.120727, train error 3.75,  val loss 0.321609, percent error 9.70\n",
            "Epoch    25, train loss 0.133965, train error 4.40,  val loss 0.343888, percent error 11.60\n",
            "Epoch    26, train loss 0.124741, train error 3.88,  val loss 0.346981, percent error 10.30\n",
            "Epoch    27, train loss 0.101790, train error 2.88,  val loss 0.328828, percent error 10.20\n",
            "Epoch    28, train loss 0.113999, train error 3.50,  val loss 0.358674, percent error 11.00\n",
            "Epoch    29, train loss 0.094257, train error 2.75,  val loss 0.333153, percent error 9.70\n",
            "Epoch    30, train loss 0.096717, train error 2.88,  val loss 0.351572, percent error 10.30\n",
            "Epoch    31, train loss 0.090959, train error 2.72,  val loss 0.336818, percent error 9.60\n",
            "Epoch    32, train loss 0.090781, train error 2.72,  val loss 0.346088, percent error 10.20\n",
            "Epoch    33, train loss 0.087018, train error 2.68,  val loss 0.338573, percent error 9.40\n",
            "Epoch    34, train loss 0.091794, train error 2.65,  val loss 0.351528, percent error 9.90\n",
            "Epoch    35, train loss 0.074805, train error 2.25,  val loss 0.338762, percent error 9.20\n",
            "Epoch    36, train loss 0.089510, train error 2.93,  val loss 0.384389, percent error 10.80\n",
            "Epoch    37, train loss 0.081744, train error 2.50,  val loss 0.363383, percent error 9.90\n",
            "Epoch    38, train loss 0.096890, train error 2.97,  val loss 0.414594, percent error 10.60\n",
            "Epoch    39, train loss 0.067258, train error 1.95,  val loss 0.365838, percent error 10.00\n",
            "Epoch    40, train loss 0.061175, train error 1.65,  val loss 0.362034, percent error 9.70\n",
            "Epoch    41, train loss 0.056421, train error 1.35,  val loss 0.364424, percent error 10.10\n",
            "Epoch    42, train loss 0.054673, train error 1.45,  val loss 0.356192, percent error 10.00\n",
            "Epoch    43, train loss 0.054721, train error 1.53,  val loss 0.368852, percent error 9.60\n",
            "Epoch    44, train loss 0.050808, train error 1.28,  val loss 0.370957, percent error 10.10\n",
            "Epoch    45, train loss 0.048956, train error 1.10,  val loss 0.373208, percent error 9.40\n",
            "Epoch    46, train loss 0.058562, train error 1.55,  val loss 0.382351, percent error 10.30\n",
            "Epoch    47, train loss 0.047651, train error 1.03,  val loss 0.378233, percent error 9.90\n",
            "Epoch    48, train loss 0.049382, train error 1.32,  val loss 0.392199, percent error 10.60\n",
            "Epoch    49, train loss 0.045101, train error 0.97,  val loss 0.369866, percent error 10.00\n",
            "Epoch    50, train loss 0.043817, train error 1.00,  val loss 0.385263, percent error 10.10\n",
            "Epoch    51, train loss 0.044102, train error 1.03,  val loss 0.392837, percent error 10.60\n",
            "Epoch    52, train loss 0.042857, train error 0.80,  val loss 0.392343, percent error 9.90\n",
            "Epoch    53, train loss 0.042212, train error 1.05,  val loss 0.387193, percent error 10.40\n",
            "Epoch    54, train loss 0.045510, train error 1.10,  val loss 0.398578, percent error 10.10\n",
            "Epoch    55, train loss 0.040636, train error 0.78,  val loss 0.402669, percent error 9.80\n",
            "Epoch    56, train loss 0.038844, train error 0.75,  val loss 0.399184, percent error 10.40\n",
            "Epoch    57, train loss 0.037235, train error 0.72,  val loss 0.403985, percent error 10.20\n",
            "Epoch    58, train loss 0.038181, train error 0.72,  val loss 0.413551, percent error 10.00\n",
            "Epoch    59, train loss 0.036281, train error 0.65,  val loss 0.412573, percent error 10.40\n",
            "Epoch    60, train loss 0.034461, train error 0.55,  val loss 0.409894, percent error 10.30\n",
            "Epoch    61, train loss 0.034304, train error 0.57,  val loss 0.412875, percent error 10.30\n",
            "Epoch    62, train loss 0.033670, train error 0.53,  val loss 0.412723, percent error 10.30\n",
            "Epoch    63, train loss 0.033972, train error 0.55,  val loss 0.418246, percent error 10.30\n",
            "Epoch    64, train loss 0.035105, train error 0.55,  val loss 0.424283, percent error 10.20\n",
            "Epoch    65, train loss 0.033301, train error 0.68,  val loss 0.413783, percent error 10.00\n",
            "Epoch    66, train loss 0.032504, train error 0.57,  val loss 0.422495, percent error 10.20\n",
            "Epoch    67, train loss 0.032667, train error 0.62,  val loss 0.413111, percent error 10.20\n",
            "Epoch    68, train loss 0.031741, train error 0.53,  val loss 0.421494, percent error 10.30\n",
            "Epoch    69, train loss 0.031629, train error 0.50,  val loss 0.417309, percent error 10.30\n",
            "Epoch    70, train loss 0.030956, train error 0.47,  val loss 0.425669, percent error 10.30\n",
            "Epoch    71, train loss 0.031046, train error 0.57,  val loss 0.422034, percent error 9.90\n",
            "Epoch    72, train loss 0.030717, train error 0.47,  val loss 0.429843, percent error 10.40\n",
            "Epoch    73, train loss 0.029879, train error 0.43,  val loss 0.429887, percent error 10.40\n",
            "Epoch    74, train loss 0.029948, train error 0.47,  val loss 0.433665, percent error 10.60\n",
            "Epoch    75, train loss 0.029596, train error 0.47,  val loss 0.431596, percent error 10.20\n",
            "Epoch    76, train loss 0.029178, train error 0.47,  val loss 0.430907, percent error 10.40\n",
            "Epoch    77, train loss 0.028990, train error 0.43,  val loss 0.435881, percent error 10.50\n",
            "Epoch    78, train loss 0.028731, train error 0.40,  val loss 0.433619, percent error 10.40\n",
            "Epoch    79, train loss 0.028078, train error 0.38,  val loss 0.434860, percent error 10.20\n",
            "Epoch    80, train loss 0.028019, train error 0.40,  val loss 0.435543, percent error 10.30\n",
            "Epoch    81, train loss 0.027734, train error 0.35,  val loss 0.436420, percent error 10.30\n",
            "Epoch    82, train loss 0.027640, train error 0.38,  val loss 0.437374, percent error 10.50\n",
            "Epoch    83, train loss 0.027639, train error 0.43,  val loss 0.439131, percent error 10.50\n",
            "Epoch    84, train loss 0.027565, train error 0.45,  val loss 0.439197, percent error 10.40\n",
            "Epoch    85, train loss 0.027207, train error 0.38,  val loss 0.440736, percent error 10.50\n",
            "Epoch    86, train loss 0.027001, train error 0.32,  val loss 0.441319, percent error 10.40\n",
            "Epoch    87, train loss 0.027331, train error 0.38,  val loss 0.443024, percent error 10.60\n",
            "Epoch    88, train loss 0.026852, train error 0.35,  val loss 0.442815, percent error 10.40\n",
            "Epoch    89, train loss 0.026630, train error 0.32,  val loss 0.441092, percent error 10.40\n",
            "Epoch    90, train loss 0.026443, train error 0.35,  val loss 0.442553, percent error 10.40\n",
            "Epoch    91, train loss 0.026776, train error 0.35,  val loss 0.445400, percent error 10.50\n",
            "Epoch    92, train loss 0.026211, train error 0.35,  val loss 0.444195, percent error 10.40\n",
            "Epoch    93, train loss 0.026191, train error 0.32,  val loss 0.444266, percent error 10.60\n",
            "Epoch    94, train loss 0.026981, train error 0.45,  val loss 0.445444, percent error 10.40\n",
            "Epoch    95, train loss 0.026330, train error 0.35,  val loss 0.447577, percent error 10.40\n",
            "Epoch    96, train loss 0.025887, train error 0.40,  val loss 0.444641, percent error 10.40\n",
            "Epoch    97, train loss 0.025714, train error 0.35,  val loss 0.447942, percent error 10.50\n",
            "Epoch    98, train loss 0.026119, train error 0.38,  val loss 0.448460, percent error 10.30\n",
            "Epoch    99, train loss 0.025449, train error 0.32,  val loss 0.450824, percent error 10.50\n"
          ]
        },
        {
          "output_type": "display_data",
          "data": {
            "text/plain": [
              "<Figure size 640x480 with 1 Axes>"
            ],
            "image/png": "[encoded data removed]"
          },
          "metadata": {}
        }
      ]
    }
  ]
}